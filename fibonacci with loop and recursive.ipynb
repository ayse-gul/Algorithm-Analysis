{
 "cells": [
  {
   "cell_type": "code",
   "execution_count": 1,
   "metadata": {
    "collapsed": true
   },
   "outputs": [],
   "source": [
    "#!/usr/bin/env python\n",
    "# -*- coding: utf-8 -*-\n",
    "import time\n",
    "import numpy as np\n",
    "import matplotlib.pyplot as plt\n",
    "  \n",
    "def fibo_loop_1(a,b,n):#karmaşıklığı n'dir\n",
    "    if(n>0):\n",
    "        #print(a,b,n)\n",
    "        n=n-1\n",
    "        t=a\n",
    "        a=b\n",
    "        b=t+b\n",
    "        fibo_loop_1(b,a+b,n)\n",
    "    else:\n",
    "        return a\n",
    "    \n",
    "def fibo_rec(n):\n",
    "    if(n<2):\n",
    "        return n\n",
    "    else:\n",
    "        return fibo_rec(n-1)+fibo_rec(n-2);"
   ]
  },
  {
   "cell_type": "code",
   "execution_count": 2,
   "metadata": {
    "collapsed": true
   },
   "outputs": [],
   "source": [
    "def time_1_2_f(n):\n",
    "    time_1=int(round(time.time()))\n",
    "    fibo_rec(n)\n",
    "    time_2=int(round(time.time()))\n",
    "    return time_2-time_1\n",
    "\n",
    "def time_3_4_f(n):\n",
    "    time_3=int(round(time.time()))\n",
    "    fibo_loop_1(0,1,n)\n",
    "    time_4=int(round(time.time()))\n",
    "    return time_4-time_3"
   ]
  },
  {
   "cell_type": "code",
   "execution_count": 3,
   "metadata": {},
   "outputs": [
    {
     "name": "stdout",
     "output_type": "stream",
     "text": [
      "[0, 0, 0, 0, 0, 0, 0, 0, 0, 0, 0, 0, 0, 0, 0, 0, 0, 0, 0, 0, 0, 0, 0, 0, 0, 0, 0, 0, 0, 0, 1, 0, 1, 1, 2, 4, 5, 8, 14, 22]\n",
      "-------------\n",
      "[0, 0, 0, 0, 0, 0, 0, 0, 0, 0, 0, 0, 0, 0, 0, 0, 0, 0, 0, 0, 0, 0, 0, 0, 0, 0, 0, 0, 0, 0, 0, 0, 0, 0, 0, 0, 0, 0, 0, 0]\n"
     ]
    }
   ],
   "source": [
    "x = []\n",
    "k=25\n",
    "for k in range(40):\n",
    "    x.append(k)\n",
    "y1 = []\n",
    "y2 = []\n",
    "i=25\n",
    "for i in range(40):\n",
    "    y1.append(time_1_2_f(i))\n",
    "    y2.append(time_3_4_f(i))\n",
    "print(y1)\n",
    "print(\"-------------\")\n",
    "print(y2)"
   ]
  },
  {
   "cell_type": "code",
   "execution_count": 4,
   "metadata": {},
   "outputs": [
    {
     "data": {
      "text/plain": [
       "[<matplotlib.lines.Line2D at 0x5fdd0f0>]"
      ]
     },
     "execution_count": 4,
     "metadata": {},
     "output_type": "execute_result"
    }
   ],
   "source": [
    "plt.plot(x,y1,linewidth=4) #1.Doğru\n",
    "plt.plot(x,y2,linewidth=4) #2.Doğru"
   ]
  },
  {
   "cell_type": "code",
   "execution_count": 5,
   "metadata": {},
   "outputs": [
    {
     "data": {
      "image/png": "[encoded data removed]",
      "text/plain": [
       "<matplotlib.figure.Figure at 0x5fdd0b8>"
      ]
     },
     "metadata": {},
     "output_type": "display_data"
    }
   ],
   "source": [
    "plt.title('Algoritma Analizi')\n",
    "plt.ylabel('y ekseni')\n",
    "plt.xlabel('zaman')\n",
    "plt.show()"
   ]
  },
  {
   "cell_type": "code",
   "execution_count": null,
   "metadata": {
    "collapsed": true
   },
   "outputs": [],
   "source": []
  }
 ],
 "metadata": {
  "kernelspec": {
   "display_name": "Python 2",
   "language": "python",
   "name": "python2"
  },
  "language_info": {
   "codemirror_mode": {
    "name": "ipython",
    "version": 2
   },
   "file_extension": ".py",
   "mimetype": "text/x-python",
   "name": "python",
   "nbconvert_exporter": "python",
   "pygments_lexer": "ipython2",
   "version": "2.7.13"
  }
 },
 "nbformat": 4,
 "nbformat_minor": 2
}
