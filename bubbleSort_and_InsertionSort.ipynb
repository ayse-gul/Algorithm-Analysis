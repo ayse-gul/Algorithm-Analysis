{
 "cells": [
  {
   "cell_type": "code",
   "execution_count": 1,
   "metadata": {
    "collapsed": true
   },
   "outputs": [],
   "source": [
    "#PYTHON ILE BUBBLE SORT VE İNSERTION SORT'UN SIRALAMA YAPARKEN DIZIYI KAÇ KERE TARAMASI GEREKTİĞİNİN KARŞILAŞTIRMASI\n",
    "import random\n",
    "\n",
    "def createRandom(n):\n",
    "    myarray=[]\n",
    "    for i in range(n):\n",
    "        myarray.append(random.randint(0,100))\n",
    "    return myarray"
   ]
  },
  {
   "cell_type": "code",
   "execution_count": 2,
   "metadata": {
    "collapsed": true
   },
   "outputs": [],
   "source": [
    "def myBubble_Sort(my_array):\n",
    "    number_of_comparision=0\n",
    "    for passnum in range(len(my_array)-1,0,-1):\n",
    "        for i in range(passnum):\n",
    "            number_of_comparision=number_of_comparision+1\n",
    "            if my_array[i]>my_array[i+1]:\n",
    "                temp = my_array[i]\n",
    "                my_array[i] = my_array[i+1]\n",
    "                my_array[i+1] = temp\n",
    "    \n",
    "    return(number_of_comparision)"
   ]
  },
  {
   "cell_type": "code",
   "execution_count": 3,
   "metadata": {},
   "outputs": [
    {
     "name": "stdout",
     "output_type": "stream",
     "text": [
      "45\n",
      "45\n",
      "45\n"
     ]
    }
   ],
   "source": [
    "n=10\n",
    "for i in range(3):\n",
    "    print(myBubble_Sort(createRandom(n)))"
   ]
  },
  {
   "cell_type": "code",
   "execution_count": 4,
   "metadata": {},
   "outputs": [
    {
     "name": "stdout",
     "output_type": "stream",
     "text": [
      "190\n",
      "190\n",
      "190\n"
     ]
    }
   ],
   "source": [
    "n=20\n",
    "for i in range(3):\n",
    "    print(myBubble_Sort(createRandom(n)))"
   ]
  },
  {
   "cell_type": "code",
   "execution_count": 5,
   "metadata": {},
   "outputs": [
    {
     "name": "stdout",
     "output_type": "stream",
     "text": [
      "435\n",
      "435\n",
      "435\n"
     ]
    }
   ],
   "source": [
    "n=30\n",
    "for i in range(3):\n",
    "    print(myBubble_Sort(createRandom(n)))"
   ]
  },
  {
   "cell_type": "code",
   "execution_count": 6,
   "metadata": {},
   "outputs": [
    {
     "name": "stdout",
     "output_type": "stream",
     "text": [
      "1225\n",
      "1225\n",
      "1225\n"
     ]
    }
   ],
   "source": [
    "n=50\n",
    "for i in range(3):\n",
    "    print(myBubble_Sort(createRandom(n)))"
   ]
  },
  {
   "cell_type": "code",
   "execution_count": 7,
   "metadata": {
    "collapsed": true
   },
   "outputs": [],
   "source": [
    "def insertionsort( aList ):\n",
    "    comparison=0\n",
    "    for i in range( 1, len( aList ) ):\n",
    "        tmp = aList[i]\n",
    "        k = i\n",
    "        comparison=comparison+1\n",
    "        while k > 0 and tmp < aList[k - 1]:\n",
    "            aList[k] = aList[k - 1]\n",
    "            k -= 1\n",
    "            comparison=comparison+1\n",
    "        aList[k] = tmp\n",
    "    return(comparison)"
   ]
  },
  {
   "cell_type": "code",
   "execution_count": 8,
   "metadata": {},
   "outputs": [
    {
     "name": "stdout",
     "output_type": "stream",
     "text": [
      "36\n",
      "27\n",
      "32\n"
     ]
    }
   ],
   "source": [
    "n=10\n",
    "for i in range(3):\n",
    "    print(insertionsort(createRandom(n)))"
   ]
  },
  {
   "cell_type": "code",
   "execution_count": 9,
   "metadata": {},
   "outputs": [
    {
     "name": "stdout",
     "output_type": "stream",
     "text": [
      "120\n",
      "100\n",
      "121\n"
     ]
    }
   ],
   "source": [
    "n=20\n",
    "for i in range(3):\n",
    "    print(insertionsort(createRandom(n)))"
   ]
  },
  {
   "cell_type": "code",
   "execution_count": 10,
   "metadata": {},
   "outputs": [
    {
     "name": "stdout",
     "output_type": "stream",
     "text": [
      "214\n",
      "219\n",
      "263\n"
     ]
    }
   ],
   "source": [
    "n=30\n",
    "for i in range(3):\n",
    "    print(insertionsort(createRandom(n)))"
   ]
  },
  {
   "cell_type": "code",
   "execution_count": 11,
   "metadata": {},
   "outputs": [
    {
     "name": "stdout",
     "output_type": "stream",
     "text": [
      "688\n",
      "687\n",
      "481\n"
     ]
    }
   ],
   "source": [
    "n=50\n",
    "for i in range(3):\n",
    "    print(insertionsort(createRandom(n)))"
   ]
  },
  {
   "cell_type": "code",
   "execution_count": null,
   "metadata": {
    "collapsed": true
   },
   "outputs": [],
   "source": []
  }
 ],
 "metadata": {
  "kernelspec": {
   "display_name": "Python 2",
   "language": "python",
   "name": "python2"
  },
  "language_info": {
   "codemirror_mode": {
    "name": "ipython",
    "version": 2
   },
   "file_extension": ".py",
   "mimetype": "text/x-python",
   "name": "python",
   "nbconvert_exporter": "python",
   "pygments_lexer": "ipython2",
   "version": "2.7.13"
  }
 },
 "nbformat": 4,
 "nbformat_minor": 2
}
