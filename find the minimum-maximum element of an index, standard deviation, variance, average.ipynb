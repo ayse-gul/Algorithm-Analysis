{
 "cells": [
  {
   "cell_type": "code",
   "execution_count": 1,
   "metadata": {
    "collapsed": true
   },
   "outputs": [],
   "source": [
    "import math   # karekök için\n",
    "\n",
    "def stsapma(x1, x2, *y):\n",
    "    N = len(y) + 2 # Fonksiyona verilen parametre sayısı\n",
    "\n",
    "    # ortalamayı hesapla\n",
    "    toplam = x1 + x2\n",
    "    for z in y:\n",
    "        toplam += z\n",
    "    ort = toplam / N\n",
    "\n",
    "    karetoplam = (x1-ort)**2 + (x2-ort)**2\n",
    "    for z in y:\n",
    "        karetoplam += (z-ort)**2\n",
    "    stsap = math.sqrt(karetoplam / (N-1))\n",
    "\n",
    "    return stsap\n",
    "\n",
    "def varyans(standartsapma):\n",
    "    return standartsapma*standartsapma"
   ]
  },
  {
   "cell_type": "code",
   "execution_count": 2,
   "metadata": {
    "collapsed": true
   },
   "outputs": [],
   "source": [
    "data = [1,2,2,3,3,3,3,4,4,5,5]\n",
    "s_deger=stsapma( *data )"
   ]
  },
  {
   "cell_type": "code",
   "execution_count": 3,
   "metadata": {
    "collapsed": true
   },
   "outputs": [],
   "source": [
    "v_deger=varyans(s_deger)"
   ]
  },
  {
   "cell_type": "code",
   "execution_count": 4,
   "metadata": {},
   "outputs": [
    {
     "name": "stdout",
     "output_type": "stream",
     "text": [
      "('Standart Sapma: ', 1.0, '\\nVaryans: ', 1.0)\n"
     ]
    }
   ],
   "source": [
    "print(\"Standart Sapma: \",s_deger,\"\\nVaryans: \",v_deger)"
   ]
  },
  {
   "cell_type": "code",
   "execution_count": 5,
   "metadata": {
    "collapsed": true
   },
   "outputs": [],
   "source": [
    "def maxBul(dizi):\n",
    "    max=dizi[0]\n",
    "    i=1\n",
    "    for i in range(len(dizi)):\n",
    "        if(max<dizi[i]):\n",
    "            max=dizi[i]\n",
    "    return max\n",
    "    \n",
    "def minBul(dizi):\n",
    "    min=dizi[0]\n",
    "    i=1\n",
    "    for i in range(len(dizi)):\n",
    "        if(min>dizi[i]):\n",
    "            min=dizi[i]\n",
    "    return min\n",
    " \n",
    "def ortalama(gelen_sayilar):\n",
    "    miktar = len(gelen_sayilar)\n",
    "    toplam = 0\n",
    "    for i in gelen_sayilar:\n",
    "        toplam += i\n",
    "    return toplam/miktar"
   ]
  },
  {
   "cell_type": "code",
   "execution_count": 6,
   "metadata": {},
   "outputs": [
    {
     "data": {
      "text/plain": [
       "(88, 1, 23)"
      ]
     },
     "execution_count": 6,
     "metadata": {},
     "output_type": "execute_result"
    }
   ],
   "source": [
    "dizi=[5,69,8,1,3,7,88,4]\n",
    "maxBul(dizi),minBul(dizi),ortalama(dizi)"
   ]
  }
 ],
 "metadata": {
  "kernelspec": {
   "display_name": "Python 2",
   "language": "python",
   "name": "python2"
  },
  "language_info": {
   "codemirror_mode": {
    "name": "ipython",
    "version": 2
   },
   "file_extension": ".py",
   "mimetype": "text/x-python",
   "name": "python",
   "nbconvert_exporter": "python",
   "pygments_lexer": "ipython2",
   "version": "2.7.13"
  }
 },
 "nbformat": 4,
 "nbformat_minor": 2
}
