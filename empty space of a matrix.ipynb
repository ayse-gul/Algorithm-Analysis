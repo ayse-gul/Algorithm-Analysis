{
 "cells": [
  {
   "cell_type": "code",
   "execution_count": 1,
   "metadata": {
    "collapsed": true
   },
   "outputs": [],
   "source": [
    "import numpy as np\n",
    "\n",
    "dim = 3\n",
    "matris = np.array([\n",
    "    [2,3,0,15],\n",
    "    [1,2,1,13],\n",
    "    [1,0,2,11]\n",
    "],dtype='float32')\n",
    "\n",
    "class GaussJordan():\n",
    "    @staticmethod\n",
    "    def echelon(arr):\n",
    "        for col in range(dim): # 0 dan baslayarak dim'e kadar her sutun # yukaridaki icin 3 sutun\n",
    "            for row in range(col+1,dim): # 0. sutun icin 2, 1. sutun icin 1, 2. sutun icin 0  satir islemi yapilacak\n",
    "                if arr[col][col] == 0: # Eger diyagondaki deger 0 ise diger sutuna gec\n",
    "                    break # Bu davranis yazinin ilerisinde duzeltilecek\n",
    "                elim_ratio = arr[row][col] / arr[col][col] # Her satir icin uygun hucredeki degerin \n",
    "                # diyagonda o sutunda bulunan degere orani\n",
    "                arr[row] = arr[row] - elim_ratio * arr[col] # yukaridaki degerle diyagondaki satir\n",
    "                # carpilip mevcut satirdan cikarilir\n",
    "                # bu da mevcut hucreyi 0 yapar. \n",
    "                # Bu islem yukaridaki matris icin uc kere yapildiginda echelon forma ulasilmis olur.\n",
    "    @staticmethod\n",
    "    def reducedEchelon(arr):\n",
    "        GaussJordan.echelon(arr) # Indirgenmis forma gecmesi icin ilk once echelon olmasi lazim\n",
    "        print(arr)\n",
    "        for col in reversed(range(dim)):\n",
    "            for row in reversed(range(col)): ## echelondaki islemleri bu sefer tersten yapiyoruz\n",
    "                if arr[col][col] == 0:\n",
    "                    break # Bu davranis yazinin ilerisinde duzeltilecek\n",
    "                elim_ratio = arr[row][col] / arr[col][col] \n",
    "                arr[row] = arr[row] - elim_ratio * arr[col] \n",
    "\n",
    "    @staticmethod\n",
    "    def solveSystem(arr):\n",
    "        GaussJordan.reducedEchelon(arr)\n",
    "        for idx, row in enumerate(arr): # son halde her satirda 0 olmayan iki deger kaliyor\n",
    "            yield row[-1]/row[idx]  # sag degeri soldakine bolersek sonuc cikiyor\n",
    "\n",
    "                "
   ]
  },
  {
   "cell_type": "code",
   "execution_count": 2,
   "metadata": {},
   "outputs": [
    {
     "name": "stdout",
     "output_type": "stream",
     "text": [
      "[[  2.    3.    0.   15. ]\n",
      " [  0.    0.5   1.    5.5]\n",
      " [  0.    0.    5.   20. ]]\n"
     ]
    }
   ],
   "source": [
    "GaussJordan.echelon(matris)\n",
    "print(matris)"
   ]
  },
  {
   "cell_type": "code",
   "execution_count": 3,
   "metadata": {},
   "outputs": [
    {
     "name": "stdout",
     "output_type": "stream",
     "text": [
      "[[  2.    3.    0.   15. ]\n",
      " [  0.    0.5   1.    5.5]\n",
      " [  0.    0.    5.   20. ]]\n",
      "[[  2.    0.    0.    6. ]\n",
      " [  0.    0.5   0.    1.5]\n",
      " [  0.    0.    5.   20. ]]\n",
      "[[  2.    0.    0.    6. ]\n",
      " [  0.    0.5   0.    1.5]\n",
      " [  0.    0.    5.   20. ]]\n",
      "3.0\n",
      "3.0\n",
      "4.0\n"
     ]
    }
   ],
   "source": [
    "GaussJordan.reducedEchelon(matris)\n",
    "print(matris)\n",
    "\n",
    "for val in GaussJordan.solveSystem(matris):\n",
    "    print(val)"
   ]
  },
  {
   "cell_type": "code",
   "execution_count": null,
   "metadata": {
    "collapsed": true
   },
   "outputs": [],
   "source": []
  }
 ],
 "metadata": {
  "kernelspec": {
   "display_name": "Python 2",
   "language": "python",
   "name": "python2"
  },
  "language_info": {
   "codemirror_mode": {
    "name": "ipython",
    "version": 2
   },
   "file_extension": ".py",
   "mimetype": "text/x-python",
   "name": "python",
   "nbconvert_exporter": "python",
   "pygments_lexer": "ipython2",
   "version": "2.7.13"
  }
 },
 "nbformat": 4,
 "nbformat_minor": 2
}
