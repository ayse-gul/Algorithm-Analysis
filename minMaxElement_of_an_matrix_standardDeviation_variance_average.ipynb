{
 "cells": [
  {
   "cell_type": "code",
   "execution_count": 2,
   "metadata": {
    "collapsed": true
   },
   "outputs": [],
   "source": [
    "from random import randint\n",
    "def create_A_vector(size):\n",
    "    my_vector=[]\n",
    "    for i in range(size):\n",
    "        my_vector.append(randint(0,9))\n",
    "    return my_vector\n",
    "\n",
    "def create_a_matrix(m,n):\n",
    "    my_matrix=[]\n",
    "    for i in range(m):\n",
    "        my_matrix.append(create_A_vector(n))\n",
    "    return my_matrix"
   ]
  },
  {
   "cell_type": "code",
   "execution_count": 3,
   "metadata": {
    "collapsed": true
   },
   "outputs": [],
   "source": [
    "def maxBul(dizi):\n",
    "    max=dizi[0][0]\n",
    "    i=1\n",
    "    for i in range(len(dizi)):\n",
    "        for j in range(len(dizi[0])):\n",
    "            if(max<dizi[i][j]):\n",
    "                max=dizi[i][j]\n",
    "    return max\n",
    "    \n",
    "def minBul(dizi):\n",
    "    min=dizi[0][0]\n",
    "    i=1\n",
    "    for i in range(len(dizi)):\n",
    "        for j in range(len(dizi[0])):\n",
    "            if(min>dizi[i][j]):\n",
    "                min=dizi[i][j]\n",
    "    return min\n",
    " \n",
    "def ortalama(dizi): \n",
    "    toplam = 0\n",
    "    for i in range(len(dizi)):\n",
    "        for j in range(len(dizi[0])):\n",
    "            toplam += dizi[i][j]\n",
    "    miktar = len(dizi)*len(dizi[0])\n",
    "    return toplam/miktar"
   ]
  },
  {
   "cell_type": "code",
   "execution_count": 4,
   "metadata": {},
   "outputs": [
    {
     "name": "stdout",
     "output_type": "stream",
     "text": [
      "[[3, 5, 4], [6, 1, 1], [3, 8, 7]]\n"
     ]
    }
   ],
   "source": [
    "dizi=create_a_matrix(3,3)\n",
    "print(dizi)"
   ]
  },
  {
   "cell_type": "code",
   "execution_count": 5,
   "metadata": {},
   "outputs": [
    {
     "data": {
      "text/plain": [
       "8"
      ]
     },
     "execution_count": 5,
     "metadata": {},
     "output_type": "execute_result"
    }
   ],
   "source": [
    "maxBul(dizi)"
   ]
  },
  {
   "cell_type": "code",
   "execution_count": 6,
   "metadata": {},
   "outputs": [
    {
     "data": {
      "text/plain": [
       "1"
      ]
     },
     "execution_count": 6,
     "metadata": {},
     "output_type": "execute_result"
    }
   ],
   "source": [
    "minBul(dizi)"
   ]
  },
  {
   "cell_type": "code",
   "execution_count": 7,
   "metadata": {},
   "outputs": [
    {
     "data": {
      "text/plain": [
       "4"
      ]
     },
     "execution_count": 7,
     "metadata": {},
     "output_type": "execute_result"
    }
   ],
   "source": [
    "ortalama(dizi)"
   ]
  },
  {
   "cell_type": "code",
   "execution_count": 8,
   "metadata": {
    "collapsed": true
   },
   "outputs": [],
   "source": [
    "import math\n",
    "def varyans(dizi,mean):\n",
    "    top=0\n",
    "    for i in range (len(dizi)):\n",
    "        for j in range(len(dizi[0])):\n",
    "            dizi[i][j]-=mean\n",
    "            dizi[i][j]*=dizi[i][j]\n",
    "    \n",
    "    i=0\n",
    "    j=0\n",
    "    for i in range (len(dizi)):\n",
    "        for j in range(len(dizi[0])):        \n",
    "            top+=dizi[i][j]\n",
    "    \n",
    "    return top/(len(dizi)*len(dizi[0]))\n",
    "\n",
    "def standarsapma(varyans_degeri):\n",
    "    stsapma = math.sqrt(varyans_degeri)\n",
    "    return stsapma"
   ]
  },
  {
   "cell_type": "code",
   "execution_count": 9,
   "metadata": {},
   "outputs": [
    {
     "data": {
      "text/plain": [
       "5"
      ]
     },
     "execution_count": 9,
     "metadata": {},
     "output_type": "execute_result"
    }
   ],
   "source": [
    "mean=ortalama(dizi)\n",
    "varyans_degeri=varyans(dizi,mean)\n",
    "varyans_degeri"
   ]
  },
  {
   "cell_type": "code",
   "execution_count": 10,
   "metadata": {},
   "outputs": [
    {
     "data": {
      "text/plain": [
       "2.23606797749979"
      ]
     },
     "execution_count": 10,
     "metadata": {},
     "output_type": "execute_result"
    }
   ],
   "source": [
    "standarsapma(varyans_degeri)"
   ]
  },
  {
   "cell_type": "code",
   "execution_count": 11,
   "metadata": {
    "collapsed": true
   },
   "outputs": [],
   "source": [
    "def solve(matrix, mul):\n",
    "    width = len(matrix)\n",
    "    if width == 1:\n",
    "        return mul * matrix[0][0]\n",
    "    else:\n",
    "        sign = -1\n",
    "        total = 0\n",
    "        for i in range(width):\n",
    "            m = []\n",
    "            for j in range(1, width):\n",
    "                buff = []\n",
    "                for k in range(width):\n",
    "                    if k != i:\n",
    "                        buff.append(matrix[j][k])\n",
    "                m.append(buff)\n",
    "            sign *= -1\n",
    "            total += mul * solve(m, sign * matrix[0][i])\n",
    "        return total"
   ]
  },
  {
   "cell_type": "code",
   "execution_count": 12,
   "metadata": {},
   "outputs": [
    {
     "name": "stdout",
     "output_type": "stream",
     "text": [
      "-90\n"
     ]
    }
   ],
   "source": [
    "#matrix = [[1,-2,3],[0,-3,-4],[0,0,-3]]\n",
    "print(solve(dizi, 1))"
   ]
  }
 ],
 "metadata": {
  "kernelspec": {
   "display_name": "Python 2",
   "language": "python",
   "name": "python2"
  },
  "language_info": {
   "codemirror_mode": {
    "name": "ipython",
    "version": 2
   },
   "file_extension": ".py",
   "mimetype": "text/x-python",
   "name": "python",
   "nbconvert_exporter": "python",
   "pygments_lexer": "ipython2",
   "version": "2.7.13"
  }
 },
 "nbformat": 4,
 "nbformat_minor": 2
}
