{
 "cells": [
  {
   "cell_type": "code",
   "execution_count": 1,
   "metadata": {
    "collapsed": true
   },
   "outputs": [],
   "source": [
    "from random import randint\n",
    "def create_A_vector(size):\n",
    "    my_vector=[]\n",
    "    for i in range(size):\n",
    "        my_vector.append(randint(0,9))\n",
    "    return my_vector"
   ]
  },
  {
   "cell_type": "code",
   "execution_count": 2,
   "metadata": {
    "collapsed": true
   },
   "outputs": [],
   "source": [
    "def create_a_matrix(m,n):\n",
    "    my_matrix=[]\n",
    "    for i in range(m):\n",
    "        my_matrix.append(create_A_vector(n))\n",
    "    return my_matrix"
   ]
  },
  {
   "cell_type": "code",
   "execution_count": 3,
   "metadata": {
    "collapsed": true
   },
   "outputs": [],
   "source": [
    "def vector_inner_product(v1,v2):\n",
    "    if(len(v1)!=len(v2)):\n",
    "        print(\"vectörler aynı boyutta olmalı\")\n",
    "        return \n",
    "    result=0\n",
    "    for i in range (len (v1)):\n",
    "        result =result+v1[i]*v2[i]\n",
    "    return result"
   ]
  },
  {
   "cell_type": "code",
   "execution_count": 4,
   "metadata": {
    "collapsed": true
   },
   "outputs": [],
   "source": [
    "def matrix_multiplication(a,b):\n",
    "    m=len(a)\n",
    "    n=len(a[0])\n",
    "    #n is also rows of the b\n",
    "    p=len(b[0])\n",
    "    \n",
    "    my_matrix=create_a_matrix(m,p)\n",
    "    \n",
    "    for i in range(m):\n",
    "        for j in range(p):\n",
    "            vector_1=a[i]\n",
    "            vector_2=[i[j] for i in b]# sütunu alma işlemi\n",
    "            my_matrix[i][j]=vector_inner_product(vector_1,vector_2)\n",
    "    return (my_matrix,m*n*p)"
   ]
  },
  {
   "cell_type": "code",
   "execution_count": 5,
   "metadata": {},
   "outputs": [
    {
     "name": "stdout",
     "output_type": "stream",
     "text": [
      "([2, 4, 8, 7, 5, 6, 8, 9, 8, 6], [7, 4, 2, 4, 0, 0, 9, 9, 0, 6])\n"
     ]
    }
   ],
   "source": [
    "#VECTOR ornegi\n",
    "size=10\n",
    "my_vector_1=create_A_vector(size)\n",
    "my_vector_2=create_A_vector(size)\n",
    "print(my_vector_1,my_vector_2)"
   ]
  },
  {
   "cell_type": "code",
   "execution_count": 6,
   "metadata": {},
   "outputs": [
    {
     "data": {
      "text/plain": [
       "263"
      ]
     },
     "execution_count": 6,
     "metadata": {},
     "output_type": "execute_result"
    }
   ],
   "source": [
    "#ORNEK\n",
    "vector_product=vector_inner_product(my_vector_1,my_vector_2)\n",
    "vector_product"
   ]
  },
  {
   "cell_type": "code",
   "execution_count": 7,
   "metadata": {},
   "outputs": [
    {
     "data": {
      "text/plain": [
       "[[3, 9, 1], [9, 4, 9]]"
      ]
     },
     "execution_count": 7,
     "metadata": {},
     "output_type": "execute_result"
    }
   ],
   "source": [
    "#Ornek\n",
    "ornek_matris=create_a_matrix(2,3)\n",
    "ornek_matris"
   ]
  },
  {
   "cell_type": "code",
   "execution_count": 8,
   "metadata": {},
   "outputs": [
    {
     "data": {
      "text/plain": [
       "(2, 3)"
      ]
     },
     "execution_count": 8,
     "metadata": {},
     "output_type": "execute_result"
    }
   ],
   "source": [
    "#boyut\n",
    "len(ornek_matris),len(ornek_matris[0])"
   ]
  },
  {
   "cell_type": "code",
   "execution_count": 9,
   "metadata": {},
   "outputs": [],
   "source": [
    "#Ornek\n",
    "a=create_a_matrix(2,3)\n",
    "b=create_a_matrix(3,5)"
   ]
  },
  {
   "cell_type": "code",
   "execution_count": 10,
   "metadata": {},
   "outputs": [
    {
     "data": {
      "text/plain": [
       "[[0, 0, 6], [0, 5, 8]]"
      ]
     },
     "execution_count": 10,
     "metadata": {},
     "output_type": "execute_result"
    }
   ],
   "source": [
    "a"
   ]
  },
  {
   "cell_type": "code",
   "execution_count": 11,
   "metadata": {},
   "outputs": [
    {
     "data": {
      "text/plain": [
       "[[2, 8, 0, 0, 4], [0, 2, 3, 2, 5], [8, 6, 3, 0, 0]]"
      ]
     },
     "execution_count": 11,
     "metadata": {},
     "output_type": "execute_result"
    }
   ],
   "source": [
    "b"
   ]
  },
  {
   "cell_type": "code",
   "execution_count": 14,
   "metadata": {},
   "outputs": [
    {
     "ename": "SyntaxError",
     "evalue": "invalid syntax (<ipython-input-14-a90fdd7cd624>, line 1)",
     "output_type": "error",
     "traceback": [
      "\u001b[1;36m  File \u001b[1;32m\"<ipython-input-14-a90fdd7cd624>\"\u001b[1;36m, line \u001b[1;32m1\u001b[0m\n\u001b[1;33m    c=matrix_multiplication([]a,[]b)\u001b[0m\n\u001b[1;37m                              ^\u001b[0m\n\u001b[1;31mSyntaxError\u001b[0m\u001b[1;31m:\u001b[0m invalid syntax\n"
     ]
    }
   ],
   "source": [
    "c=matrix_multiplication(a,b)"
   ]
  },
  {
   "cell_type": "code",
   "execution_count": null,
   "metadata": {},
   "outputs": [],
   "source": [
    "print(a,\"\\n\\n\",b,\"\\n\\n\",c,\"\\n\\n\")"
   ]
  },
  {
   "cell_type": "code",
   "execution_count": null,
   "metadata": {
    "collapsed": true
   },
   "outputs": [],
   "source": [
    "[i for i in a] #diziyi farklı şekilde yazdırma örneği"
   ]
  },
  {
   "cell_type": "code",
   "execution_count": null,
   "metadata": {
    "collapsed": true
   },
   "outputs": [],
   "source": [
    "[i[1] for i in a] #1. sutun"
   ]
  },
  {
   "cell_type": "code",
   "execution_count": null,
   "metadata": {
    "collapsed": true
   },
   "outputs": [],
   "source": [
    "a_1=create_a_matrix(1,10)\n",
    "\n",
    "a_2=create_a_matrix(10,1000)\n",
    "a_3=create_a_matrix(1000,1)\n",
    "\n",
    "a_4=create_a_matrix(1,10)\n",
    "a_5=create_a_matrix(10,3)\n",
    "\n",
    "islem_sayisi=0\n",
    "\n",
    "r_1=matrix_multiplication(a_1,a_2)\n",
    "islem_sayisi=islem_sayisi+r_1[1]\n",
    "\n",
    "r_1=matrix_multiplication(r_1[0],a_3)\n",
    "islem_sayisi=islem_sayisi+r_1[1]\n",
    "\n",
    "r_1=matrix_multiplication(r_1[0],a_4)\n",
    "islem_sayisi=islem_sayisi+r_1[1]\n",
    "\n",
    "r_1=matrix_multiplication(r_1[0],a_5)\n",
    "islem_sayisi=islem_sayisi+r_1[1]"
   ]
  },
  {
   "cell_type": "code",
   "execution_count": null,
   "metadata": {
    "collapsed": true
   },
   "outputs": [],
   "source": [
    "print(r_1,\" toplam islem sayisi: \",islem_sayisi)"
   ]
  },
  {
   "cell_type": "code",
   "execution_count": null,
   "metadata": {
    "collapsed": true
   },
   "outputs": [],
   "source": [
    "a_1=create_a_matrix(1,10)\n",
    "#öne 2 ile 3 ü sonra 1 ileçıkan sonucu çarp\n",
    "a_2=create_a_matrix(10,1000)\n",
    "a_3=create_a_matrix(1000,1)\n",
    "\n",
    "a_4=create_a_matrix(1,10)\n",
    "a_5=create_a_matrix(10,3)\n",
    "\n",
    "islem_sayisi2=0\n",
    "\n",
    "r_1=matrix_multiplication(a_2,a_3)\n",
    "islem_sayisi2=islem_sayisi2+r_1[1]\n",
    "\n",
    "r_1=matrix_multiplication(a_1,r_1[0])\n",
    "islem_sayisi2=islem_sayisi2+r_1[1]\n",
    "\n",
    "r_2=matrix_multiplication(a_4,a_5)\n",
    "islem_sayisi2=islem_sayisi2+r_1[1]\n",
    "\n",
    "r_1=matrix_multiplication(r_1[0],r_2[0])\n",
    "islem_sayisi2=islem_sayisi2+r_1[1]"
   ]
  },
  {
   "cell_type": "code",
   "execution_count": null,
   "metadata": {
    "collapsed": true
   },
   "outputs": [],
   "source": [
    "print(r_1,\" toplam islem sayisi: \",islem_sayisi2)"
   ]
  },
  {
   "cell_type": "code",
   "execution_count": null,
   "metadata": {
    "collapsed": true
   },
   "outputs": [],
   "source": [
    "print(\"İşlem sayisi: \",islem_sayisi-islem_sayisi2,\" kadar azaldı\")"
   ]
  }
 ],
 "metadata": {
  "kernelspec": {
   "display_name": "Python 2",
   "language": "python",
   "name": "python2"
  },
  "language_info": {
   "codemirror_mode": {
    "name": "ipython",
    "version": 2
   },
   "file_extension": ".py",
   "mimetype": "text/x-python",
   "name": "python",
   "nbconvert_exporter": "python",
   "pygments_lexer": "ipython2",
   "version": "2.7.13"
  }
 },
 "nbformat": 4,
 "nbformat_minor": 2
}
